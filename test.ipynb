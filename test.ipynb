{
 "cells": [
  {
   "cell_type": "code",
   "execution_count": 43,
   "source": [
    "import requests"
   ],
   "outputs": [],
   "metadata": {}
  },
  {
   "cell_type": "code",
   "execution_count": 62,
   "source": [
    "SPOTIFY_GET_CURRENT_USER_PROFILE_URL = \"https://api.spotify.com/v1/me/player/recently-played?limit=3\"\r\n",
    "ACCESS_TOKEN = ''"
   ],
   "outputs": [],
   "metadata": {}
  },
  {
   "cell_type": "code",
   "execution_count": 94,
   "source": [
    "def get_user_id(access_token):\r\n",
    "    response = requests.get(\r\n",
    "        SPOTIFY_GET_USER_PROFILE_URL,\r\n",
    "        headers = {\r\n",
    "            \"Content-type\": \"application/json\",\r\n",
    "            \"Authorization\": f\"Bearer {access_token}\"\r\n",
    "        }\r\n",
    "    )\r\n",
    "    json_response = response.json()\r\n",
    "    return json_response\r\n",
    "\r\n",
    "def get_current_user_recent_tracks(access_token):\r\n",
    "    response = requests.get(\r\n",
    "        SPOTIFY_GET_CURRENT_USER_PROFILE_URL,\r\n",
    "        headers = {\r\n",
    "            \"Content-type\": \"application/json\",\r\n",
    "            \"Authorization\": f\"Bearer {access_token}\"\r\n",
    "        }\r\n",
    "    )\r\n",
    "    json_response = response.json()\r\n",
    "    return json_response\r\n",
    "\r\n",
    "\r\n",
    "ACCESS_TOKEN = \"BQAF1zfmD54F5rY4u0ZiKDGZWTS5ud5dQgGSJqb66DAgAJ6xlr2VQo4sbHQT8-b6ubkPkbZqhUJArxpXIMR44xCDGGjL_1WJXCEeFkEfBwcBVXx0UJc913zkA7ACC5Kpw-Qp6U6j80-S3WBgsnjBxsogIt1W67e4heEi-mDkMZCzqwpl8MkPlgRi\"\r\n",
    "    #json_resp = get_user_id(ACCESS_TOKEN)\r\n",
    "json_resp = get_current_user_recent_tracks(ACCESS_TOKEN)\r\n",
    "for track in json_resp['items']:\r\n",
    "    print(track['track']['id'])\r\n",
    "    print(track['track']['name'])\r\n",
    "    print(track['track']['artists'][0]['name'])"
   ],
   "outputs": [
    {
     "output_type": "stream",
     "name": "stdout",
     "text": [
      "1N9M3x7kheonbmXAh6CS7d\n",
      "Red Sippy Cup\n",
      "Ellis G\n",
      "6wVMFTx9JyUDqPYzokDEpw\n",
      "Rockstar\n",
      "Abhi The Nomad\n",
      "0GPJSHYaXh8rZSSJoUMgyl\n",
      "free love\n",
      "HONNE\n"
     ]
    }
   ],
   "metadata": {}
  },
  {
   "cell_type": "code",
   "execution_count": null,
   "source": [],
   "outputs": [],
   "metadata": {}
  }
 ],
 "metadata": {
  "orig_nbformat": 4,
  "language_info": {
   "name": "python",
   "version": "3.9.7",
   "mimetype": "text/x-python",
   "codemirror_mode": {
    "name": "ipython",
    "version": 3
   },
   "pygments_lexer": "ipython3",
   "nbconvert_exporter": "python",
   "file_extension": ".py"
  },
  "kernelspec": {
   "name": "python3",
   "display_name": "Python 3.9.7 64-bit"
  },
  "interpreter": {
   "hash": "63fd5069d213b44bf678585dea6b12cceca9941eaf7f819626cde1f2670de90d"
  }
 },
 "nbformat": 4,
 "nbformat_minor": 2
}